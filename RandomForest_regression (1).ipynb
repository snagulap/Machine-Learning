{
  "nbformat": 4,
  "nbformat_minor": 0,
  "metadata": {
    "colab": {
      "provenance": []
    },
    "kernelspec": {
      "name": "python3",
      "display_name": "Python 3"
    },
    "language_info": {
      "name": "python"
    }
  },
  "cells": [
    {
      "cell_type": "code",
      "execution_count": null,
      "metadata": {
        "id": "pNihQqTGsalR"
      },
      "outputs": [],
      "source": []
    },
    {
      "cell_type": "markdown",
      "source": [
        "Importing Libraries\n"
      ],
      "metadata": {
        "id": "6SoGupG9snOU"
      }
    },
    {
      "cell_type": "code",
      "source": [
        "import pandas as pd\n",
        "import numpy as np\n",
        "import matplotlib.pyplot as plt"
      ],
      "metadata": {
        "id": "WxF_iJnJsoU7"
      },
      "execution_count": 21,
      "outputs": []
    },
    {
      "cell_type": "markdown",
      "source": [
        "Importin dataset"
      ],
      "metadata": {
        "id": "UjfxATjRsq8n"
      }
    },
    {
      "cell_type": "code",
      "source": [
        "dataset = pd.read_excel('/content/housing.xlsx')\n",
        "x = dataset.iloc[:, :-1].values\n",
        "y = dataset.iloc[:,-1].values\n",
        "dataset.isnull().sum()"
      ],
      "metadata": {
        "colab": {
          "base_uri": "https://localhost:8080/"
        },
        "id": "aytWBvB4sthO",
        "outputId": "ce830f76-61ac-430d-b32b-57830c115ab7"
      },
      "execution_count": 22,
      "outputs": [
        {
          "output_type": "execute_result",
          "data": {
            "text/plain": [
              "longitude               0\n",
              "latitude                0\n",
              "housing_median_age      0\n",
              "total_rooms             0\n",
              "total_bedrooms        207\n",
              "population              0\n",
              "households              0\n",
              "median_income           0\n",
              "ocean_proximity         0\n",
              "median_house_value      0\n",
              "dtype: int64"
            ]
          },
          "metadata": {},
          "execution_count": 22
        }
      ]
    },
    {
      "cell_type": "code",
      "source": [
        "print(x)"
      ],
      "metadata": {
        "colab": {
          "base_uri": "https://localhost:8080/"
        },
        "id": "PpBNb8wRs2yc",
        "outputId": "4473666f-c2fd-42d7-c867-e239ec6cc10a"
      },
      "execution_count": 23,
      "outputs": [
        {
          "output_type": "stream",
          "name": "stdout",
          "text": [
            "[[-122.23 37.88 41 ... 126 8.3252 'NEAR BAY']\n",
            " [-122.22 37.86 21 ... 1138 8.3014 'NEAR BAY']\n",
            " [-122.24 37.85 52 ... 177 7.2574 'NEAR BAY']\n",
            " ...\n",
            " [-121.22 39.43 17 ... 433 1.7 'INLAND']\n",
            " [-121.32 39.43 18 ... 349 1.8672 'INLAND']\n",
            " [-121.24 39.37 16 ... 530 2.3886 'INLAND']]\n"
          ]
        }
      ]
    },
    {
      "cell_type": "code",
      "source": [
        "print(y)"
      ],
      "metadata": {
        "colab": {
          "base_uri": "https://localhost:8080/"
        },
        "id": "pH8URHvis6Og",
        "outputId": "6f5dce88-c516-4a45-8144-5eaf03fe0271"
      },
      "execution_count": 24,
      "outputs": [
        {
          "output_type": "stream",
          "name": "stdout",
          "text": [
            "[452600 358500 352100 ...  92300  84700  89400]\n"
          ]
        }
      ]
    },
    {
      "cell_type": "markdown",
      "source": [
        "Taking care of missing data"
      ],
      "metadata": {
        "id": "sYNP3Mjvs9G2"
      }
    },
    {
      "cell_type": "code",
      "source": [
        "from sklearn.impute import SimpleImputer\n",
        "imputer = SimpleImputer(missing_values=np.nan, strategy='mean')\n",
        "imputer.fit(x[:,0:8])\n",
        "x[:,0:8]=imputer.transform(x[:,0:8])\n",
        "print(x)"
      ],
      "metadata": {
        "colab": {
          "base_uri": "https://localhost:8080/"
        },
        "id": "7Pfd9Ynjs9-V",
        "outputId": "941bc551-6fd3-4cc4-861d-fdfc1c7d86a1"
      },
      "execution_count": 25,
      "outputs": [
        {
          "output_type": "stream",
          "name": "stdout",
          "text": [
            "[[-122.23 37.88 41.0 ... 126.0 8.3252 'NEAR BAY']\n",
            " [-122.22 37.86 21.0 ... 1138.0 8.3014 'NEAR BAY']\n",
            " [-122.24 37.85 52.0 ... 177.0 7.2574 'NEAR BAY']\n",
            " ...\n",
            " [-121.22 39.43 17.0 ... 433.0 1.7 'INLAND']\n",
            " [-121.32 39.43 18.0 ... 349.0 1.8672 'INLAND']\n",
            " [-121.24 39.37 16.0 ... 530.0 2.3886 'INLAND']]\n"
          ]
        }
      ]
    },
    {
      "cell_type": "markdown",
      "source": [
        "Encoding Categorical data"
      ],
      "metadata": {
        "id": "iAfzvQrrtE4C"
      }
    },
    {
      "cell_type": "markdown",
      "source": [
        "Encoding independent Variable"
      ],
      "metadata": {
        "id": "4aK31VAItFus"
      }
    },
    {
      "cell_type": "code",
      "source": [
        "from sklearn.compose import ColumnTransformer\n",
        "from sklearn.preprocessing import OneHotEncoder\n",
        "ct = ColumnTransformer(transformers=[('encoder', OneHotEncoder(), [8])], remainder='passthrough')\n",
        "x = np.array(ct.fit_transform(x))"
      ],
      "metadata": {
        "id": "qp3gzffetIJd"
      },
      "execution_count": 26,
      "outputs": []
    },
    {
      "cell_type": "code",
      "source": [
        "print(x)"
      ],
      "metadata": {
        "colab": {
          "base_uri": "https://localhost:8080/"
        },
        "id": "VqcU692OtPLH",
        "outputId": "e51ed310-1ff8-484f-d4e8-aaf55c6142b3"
      },
      "execution_count": 27,
      "outputs": [
        {
          "output_type": "stream",
          "name": "stdout",
          "text": [
            "[[0.0 0.0 0.0 ... 322.0 126.0 8.3252]\n",
            " [0.0 0.0 0.0 ... 2401.0 1138.0 8.3014]\n",
            " [0.0 0.0 0.0 ... 496.0 177.0 7.2574]\n",
            " ...\n",
            " [0.0 1.0 0.0 ... 1007.0 433.0 1.7]\n",
            " [0.0 1.0 0.0 ... 741.0 349.0 1.8672]\n",
            " [0.0 1.0 0.0 ... 1387.0 530.0 2.3886]]\n"
          ]
        }
      ]
    },
    {
      "cell_type": "markdown",
      "source": [
        "Splitting the data into training set and test set"
      ],
      "metadata": {
        "id": "N_C4WwXXtTBd"
      }
    },
    {
      "cell_type": "code",
      "source": [
        "from sklearn.model_selection import train_test_split\n",
        "x_train,x_test,y_train,y_test = train_test_split(x,y,test_size = 0.2,random_state=0)"
      ],
      "metadata": {
        "id": "3BOkXSA6tT5P"
      },
      "execution_count": 28,
      "outputs": []
    },
    {
      "cell_type": "code",
      "source": [
        "print(x_train)"
      ],
      "metadata": {
        "colab": {
          "base_uri": "https://localhost:8080/"
        },
        "id": "D01VdMmatZia",
        "outputId": "949e24a8-f99d-4408-9d66-67bf8cec7aa2"
      },
      "execution_count": 29,
      "outputs": [
        {
          "output_type": "stream",
          "name": "stdout",
          "text": [
            "[[0.0 1.0 0.0 ... 228.0 65.0 4.2386]\n",
            " [0.0 0.0 0.0 ... 1485.0 447.0 4.3898]\n",
            " [1.0 0.0 0.0 ... 1022.0 368.0 3.9333]\n",
            " ...\n",
            " [0.0 0.0 0.0 ... 704.0 393.0 3.1977]\n",
            " [1.0 0.0 0.0 ... 1052.0 468.0 5.6315]\n",
            " [0.0 1.0 0.0 ... 1024.0 298.0 1.3882]]\n"
          ]
        }
      ]
    },
    {
      "cell_type": "code",
      "source": [
        "print(y_train)"
      ],
      "metadata": {
        "colab": {
          "base_uri": "https://localhost:8080/"
        },
        "id": "g4GLKgkhtdxh",
        "outputId": "4ee8aa13-7907-4ef9-a963-250a38cbbd86"
      },
      "execution_count": 31,
      "outputs": [
        {
          "output_type": "stream",
          "name": "stdout",
          "text": [
            "[500001 270000 196100 ... 289300 484600  69400]\n"
          ]
        }
      ]
    },
    {
      "cell_type": "code",
      "source": [
        "print(x_test)"
      ],
      "metadata": {
        "colab": {
          "base_uri": "https://localhost:8080/"
        },
        "id": "SdfceOBltepw",
        "outputId": "e6ab756a-8641-4af3-9be4-912c365c628e"
      },
      "execution_count": 32,
      "outputs": [
        {
          "output_type": "stream",
          "name": "stdout",
          "text": [
            "[[0.0 0.0 0.0 ... 1551.0 371.0 4.1518]\n",
            " [1.0 0.0 0.0 ... 1296.0 429.0 5.7796]\n",
            " [0.0 1.0 0.0 ... 1554.0 534.0 4.3487]\n",
            " ...\n",
            " [0.0 1.0 0.0 ... 850.0 326.0 3.2027]\n",
            " [0.0 1.0 0.0 ... 1072.0 374.0 6.1436]\n",
            " [1.0 0.0 0.0 ... 1462.0 406.0 3.3326]]\n"
          ]
        }
      ]
    },
    {
      "cell_type": "code",
      "source": [
        "print(y_test)"
      ],
      "metadata": {
        "colab": {
          "base_uri": "https://localhost:8080/"
        },
        "id": "U4r9F3FhtjFV",
        "outputId": "a0c30e64-e7d1-4dde-e42f-84794c4446b2"
      },
      "execution_count": 33,
      "outputs": [
        {
          "output_type": "stream",
          "name": "stdout",
          "text": [
            "[136900 241300 200700 ... 128600 259500 167600]\n"
          ]
        }
      ]
    },
    {
      "cell_type": "markdown",
      "source": [
        "Feature Scaling"
      ],
      "metadata": {
        "id": "bFkamjFGtqJr"
      }
    },
    {
      "cell_type": "code",
      "source": [
        "from sklearn.preprocessing import StandardScaler\n",
        "sc = StandardScaler()\n",
        "x_train = sc.fit_transform(x_train)\n",
        "x_test = sc.transform(x_test)"
      ],
      "metadata": {
        "id": "x85IzQGHtq_G"
      },
      "execution_count": 34,
      "outputs": []
    },
    {
      "cell_type": "code",
      "source": [
        "print(x_train)"
      ],
      "metadata": {
        "colab": {
          "base_uri": "https://localhost:8080/"
        },
        "id": "Tis9bT_DuJvU",
        "outputId": "8ca30932-f7aa-4100-8bc5-ccf7473cd61f"
      },
      "execution_count": 35,
      "outputs": [
        {
          "output_type": "stream",
          "name": "stdout",
          "text": [
            "[[-0.89150581  1.46934754 -0.01348032 ... -1.04760128 -1.1356496\n",
            "   0.19001247]\n",
            " [-0.89150581 -0.68057418 -0.01348032 ...  0.05210918 -0.13688171\n",
            "   0.26931072]\n",
            " [ 1.12169768 -0.68057418 -0.01348032 ... -0.35295521 -0.34343319\n",
            "   0.02989505]\n",
            " ...\n",
            " [-0.89150581 -0.68057418 -0.01348032 ... -0.63116359 -0.27806879\n",
            "  -0.35589721]\n",
            " [ 1.12169768 -0.68057418 -0.01348032 ... -0.32670914 -0.08197562\n",
            "   0.92053182]\n",
            " [-0.89150581  1.46934754 -0.01348032 ... -0.35120548 -0.52645348\n",
            "  -1.30490629]]\n"
          ]
        }
      ]
    },
    {
      "cell_type": "code",
      "source": [
        "print(x_test)"
      ],
      "metadata": {
        "colab": {
          "base_uri": "https://localhost:8080/"
        },
        "id": "7aGNUbwjuLPp",
        "outputId": "efb8cde1-aea8-4850-e15f-52a3d8ae0571"
      },
      "execution_count": 36,
      "outputs": [
        {
          "output_type": "stream",
          "name": "stdout",
          "text": [
            "[[-0.89150581 -0.68057418 -0.01348032 ...  0.10985054 -0.33558946\n",
            "   0.14448941]\n",
            " [ 1.12169768 -0.68057418 -0.01348032 ... -0.11324108 -0.18394407\n",
            "   0.99820424]\n",
            " [-0.89150581  1.46934754 -0.01348032 ...  0.11247515  0.09058637\n",
            "   0.24775544]\n",
            " ...\n",
            " [-0.89150581  1.46934754 -0.01348032 ... -0.5034327  -0.45324536\n",
            "  -0.35327491]\n",
            " [-0.89150581  1.46934754 -0.01348032 ... -0.30921176 -0.32774573\n",
            "   1.18910742]\n",
            " [ 1.12169768 -0.68057418 -0.01348032 ...  0.03198719 -0.24407931\n",
            "  -0.28514765]]\n"
          ]
        }
      ]
    },
    {
      "cell_type": "markdown",
      "source": [
        "Training the Random forest Regression Model on the training set"
      ],
      "metadata": {
        "id": "C3A43K_8uRep"
      }
    },
    {
      "cell_type": "code",
      "source": [
        "from sklearn.ensemble import RandomForestRegressor\n",
        "from sklearn.datasets import make_regression\n",
        "Rndm = RandomForestRegressor(max_depth=3, random_state=0).fit(x_train,y_train)\n",
        "y_pred = Rndm.predict(x_test)\n",
        "\n"
      ],
      "metadata": {
        "id": "S_oUM1fy8z0x"
      },
      "execution_count": 37,
      "outputs": []
    },
    {
      "cell_type": "code",
      "source": [
        "from sklearn.metrics import mean_squared_error\n",
        "from sklearn.metrics import accuracy_score\n",
        "print(y_pred.shape)\n",
        "print(y_test.shape)\n",
        "print(Rndm.score(x_test,y_test))\n",
        "mse = mean_squared_error(y_test, y_pred)\n",
        "rmse = (mse**0.5)\n",
        "print(mse)\n",
        "print(rmse)"
      ],
      "metadata": {
        "colab": {
          "base_uri": "https://localhost:8080/"
        },
        "id": "5akzxScuQUhG",
        "outputId": "85a9e0b2-a401-4b65-e3b0-ee747e374dc1"
      },
      "execution_count": 40,
      "outputs": [
        {
          "output_type": "stream",
          "name": "stdout",
          "text": [
            "(4128,)\n",
            "(4128,)\n",
            "0.559365565441722\n",
            "5745674310.709663\n",
            "75800.2263236045\n"
          ]
        }
      ]
    }
  ]
}